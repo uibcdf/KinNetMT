{
 "cells": [
  {
   "cell_type": "code",
   "execution_count": 36,
   "metadata": {},
   "outputs": [],
   "source": [
    "import os\n",
    "import networkx as nx\n",
    "import kinnetmt as knmt\n",
    "from matplotlib import pyplot as plt\n",
    "import numpy as np"
   ]
  },
  {
   "cell_type": "code",
   "execution_count": 2,
   "metadata": {},
   "outputs": [],
   "source": [
    "file_docking_network = os.path.join(knmt.utils.path_examples,'potential_energy_network_5_5.gpickle.gz')"
   ]
  },
  {
   "cell_type": "code",
   "execution_count": 3,
   "metadata": {},
   "outputs": [],
   "source": [
    "net=knmt.load(file_docking_network,'native.PotentialEnergyNetwork')"
   ]
  },
  {
   "cell_type": "code",
   "execution_count": 4,
   "metadata": {},
   "outputs": [],
   "source": [
    "net.build_Ts()"
   ]
  },
  {
   "cell_type": "code",
   "execution_count": 5,
   "metadata": {},
   "outputs": [
    {
     "name": "stdout",
     "output_type": "stream",
     "text": [
      "# Network:\n",
      "# PotentialEnergyNetwork\n",
      "# 328085 nodes\n",
      "# 7169328 links out\n",
      "# ['Potential_Energy'] additional node attributes\n"
     ]
    }
   ],
   "source": [
    "net.info()"
   ]
  },
  {
   "cell_type": "code",
   "execution_count": 6,
   "metadata": {},
   "outputs": [],
   "source": [
    "local_minima = net.get_local_minima()"
   ]
  },
  {
   "cell_type": "code",
   "execution_count": 7,
   "metadata": {},
   "outputs": [],
   "source": [
    "absolute_minimum = net.get_absolute_minimum()"
   ]
  },
  {
   "cell_type": "code",
   "execution_count": 8,
   "metadata": {},
   "outputs": [
    {
     "name": "stderr",
     "output_type": "stream",
     "text": [
      "/home/diego/Myopt/Miniconda/miniconda3/envs/UIBCDFLab_dev/lib/python3.6/site-packages/ipykernel_launcher.py:1: DeprecationWarning: elementwise == comparison failed; this will raise an error in the future.\n",
      "  \"\"\"Entry point for launching an IPython kernel.\n"
     ]
    },
    {
     "data": {
      "text/plain": [
       "False"
      ]
     },
     "execution_count": 8,
     "metadata": {},
     "output_type": "execute_result"
    }
   ],
   "source": [
    "absolute_minimum in local_minima"
   ]
  },
  {
   "cell_type": "code",
   "execution_count": 47,
   "metadata": {},
   "outputs": [
    {
     "data": {
      "text/plain": [
       "array([162203, 271217, 118522, ..., 242741,  27305, 284314])"
      ]
     },
     "execution_count": 47,
     "metadata": {},
     "output_type": "execute_result"
    }
   ],
   "source": [
    "net.potential_energies.argsort()"
   ]
  },
  {
   "cell_type": "code",
   "execution_count": 10,
   "metadata": {},
   "outputs": [
    {
     "data": {
      "text/plain": [
       "(162203, -9087.2744140625)"
      ]
     },
     "execution_count": 10,
     "metadata": {},
     "output_type": "execute_result"
    }
   ],
   "source": []
  },
  {
   "cell_type": "code",
   "execution_count": 43,
   "metadata": {},
   "outputs": [
    {
     "data": {
      "text/plain": [
       "array([   347,    613,    715, ..., 328015, 328054, 328072])"
      ]
     },
     "execution_count": 43,
     "metadata": {},
     "output_type": "execute_result"
    }
   ],
   "source": []
  },
  {
   "cell_type": "code",
   "execution_count": 16,
   "metadata": {},
   "outputs": [
    {
     "data": {
      "text/plain": [
       "-7789.00390625"
      ]
     },
     "execution_count": 16,
     "metadata": {},
     "output_type": "execute_result"
    }
   ],
   "source": []
  },
  {
   "cell_type": "code",
   "execution_count": 46,
   "metadata": {},
   "outputs": [
    {
     "name": "stdout",
     "output_type": "stream",
     "text": [
      "True\n"
     ]
    },
    {
     "data": {
      "text/plain": [
       "<matplotlib.collections.LineCollection at 0x7f9583aa9da0>"
      ]
     },
     "execution_count": 46,
     "metadata": {},
     "output_type": "execute_result"
    },
    {
     "data": {
      "image/png": "[encoded data removed]",
      "text/plain": [
       "<Figure size 432x288 with 1 Axes>"
      ]
     },
     "metadata": {},
     "output_type": "display_data"
    }
   ],
   "source": [
    "veo_min = 328015\n",
    "\n",
    "lim_check=net.node[veo_min].attribute['Potential_Energy']\n",
    "E_entorno=[]\n",
    "\n",
    "for id_vecino in net.node[veo_min].link.keys():\n",
    "    E_entorno.append(net.node[id_vecino].attribute['Potential_Energy'])\n",
    "\n",
    "print((lim_check<np.array(E_entorno)).all())\n",
    "    \n",
    "plt.plot(E_entorno)\n",
    "plt.hlines(lim_check,0,50)"
   ]
  },
  {
   "cell_type": "code",
   "execution_count": 39,
   "metadata": {},
   "outputs": [
    {
     "name": "stdout",
     "output_type": "stream",
     "text": [
      "[-7666.22265625, -7650.0146484375, -7691.02783203125, -7676.9599609375, -7680.5390625, -7703.86376953125, -7705.67431640625, -7703.427734375, -7631.92578125, -7685.2919921875, -7722.955078125, -7751.9375, -7560.486328125, -6688.7080078125, -7684.96044921875, -7645.70263671875, -7675.1416015625, -7711.548828125, -7682.36083984375, -6450.283203125, -7729.7734375, -7709.7451171875, -7680.9638671875, -7724.5478515625, -7511.7607421875, -7589.85205078125, -7743.697265625, -7717.3798828125, -7541.2783203125, -7571.27783203125, -7587.07763671875, -7655.8662109375, -7610.95654296875, -7576.50341796875, -7550.82666015625, -7518.83642578125, -7628.4296875, -7663.2783203125, -7701.8974609375, -7621.015625, -7577.5712890625, -7700.5712890625, -7251.9970703125, -7749.333984375, -7652.404296875, -7659.87890625, -7767.92431640625, -7783.9482421875]\n"
     ]
    }
   ],
   "source": [
    "print(E_entorno)"
   ]
  },
  {
   "cell_type": "code",
   "execution_count": null,
   "metadata": {},
   "outputs": [],
   "source": []
  }
 ],
 "metadata": {
  "kernelspec": {
   "display_name": "Python 3",
   "language": "python",
   "name": "python3"
  },
  "language_info": {
   "codemirror_mode": {
    "name": "ipython",
    "version": 3
   },
   "file_extension": ".py",
   "mimetype": "text/x-python",
   "name": "python",
   "nbconvert_exporter": "python",
   "pygments_lexer": "ipython3",
   "version": "3.6.5"
  }
 },
 "nbformat": 4,
 "nbformat_minor": 2
}
